{
 "cells": [
  {
   "cell_type": "code",
   "execution_count": 1,
   "metadata": {},
   "outputs": [],
   "source": [
    "import pandas as pd"
   ]
  },
  {
   "cell_type": "code",
   "execution_count": 2,
   "metadata": {},
   "outputs": [
    {
     "name": "stderr",
     "output_type": "stream",
     "text": [
      "/opt/anaconda3/lib/python3.8/site-packages/IPython/core/interactiveshell.py:3071: DtypeWarning: Columns (17) have mixed types.Specify dtype option on import or set low_memory=False.\n",
      "  has_raised = await self.run_ast_nodes(code_ast.body, cell_name,\n"
     ]
    }
   ],
   "source": [
    "hub_df = pd.read_csv('../data/hubNashville__311__Service_Requests.csv')"
   ]
  },
  {
   "cell_type": "code",
   "execution_count": 3,
   "metadata": {},
   "outputs": [],
   "source": [
    "hub_covid_df = hub_df[hub_df['Request Type'] == 'COVID-19']"
   ]
  },
  {
   "cell_type": "code",
   "execution_count": 4,
   "metadata": {},
   "outputs": [
    {
     "name": "stdout",
     "output_type": "stream",
     "text": [
      "<class 'pandas.core.frame.DataFrame'>\n",
      "Int64Index: 16071 entries, 1547 to 481570\n",
      "Data columns (total 21 columns):\n",
      " #   Column                      Non-Null Count  Dtype  \n",
      "---  ------                      --------------  -----  \n",
      " 0   Request #                   16071 non-null  int64  \n",
      " 1   Status                      16071 non-null  object \n",
      " 2   Request Type                16071 non-null  object \n",
      " 3   Subrequest Type             16070 non-null  object \n",
      " 4   Additional Subrequest Type  16052 non-null  object \n",
      " 5   Date / Time Opened          16071 non-null  object \n",
      " 6   Date / Time Closed          15952 non-null  object \n",
      " 7   Request Origin              16071 non-null  object \n",
      " 8   System of Origin ID         0 non-null      object \n",
      " 9   Contact Type                65 non-null     object \n",
      " 10  Preferred Language          0 non-null      float64\n",
      " 11  State Issue                 16071 non-null  bool   \n",
      " 12  Parent Request              1 non-null      float64\n",
      " 13  Closed When Created         16071 non-null  bool   \n",
      " 14  Address                     11755 non-null  object \n",
      " 15  City                        11129 non-null  object \n",
      " 16  Council District            11161 non-null  float64\n",
      " 17  ZIP                         11194 non-null  object \n",
      " 18  Latitude                    11850 non-null  float64\n",
      " 19  Longitude                   11850 non-null  float64\n",
      " 20  Mapped Location             11850 non-null  object \n",
      "dtypes: bool(2), float64(5), int64(1), object(13)\n",
      "memory usage: 2.5+ MB\n"
     ]
    }
   ],
   "source": [
    "hub_covid_df.info()"
   ]
  },
  {
   "cell_type": "code",
   "execution_count": 5,
   "metadata": {},
   "outputs": [],
   "source": [
    "hub_covid_violations_df = hub_covid_df[hub_covid_df['Subrequest Type'] == 'COVID-19 Violations']"
   ]
  },
  {
   "cell_type": "code",
   "execution_count": 6,
   "metadata": {},
   "outputs": [
    {
     "name": "stdout",
     "output_type": "stream",
     "text": [
      "<class 'pandas.core.frame.DataFrame'>\n",
      "Int64Index: 11719 entries, 1547 to 481524\n",
      "Data columns (total 21 columns):\n",
      " #   Column                      Non-Null Count  Dtype  \n",
      "---  ------                      --------------  -----  \n",
      " 0   Request #                   11719 non-null  int64  \n",
      " 1   Status                      11719 non-null  object \n",
      " 2   Request Type                11719 non-null  object \n",
      " 3   Subrequest Type             11719 non-null  object \n",
      " 4   Additional Subrequest Type  11710 non-null  object \n",
      " 5   Date / Time Opened          11719 non-null  object \n",
      " 6   Date / Time Closed          11646 non-null  object \n",
      " 7   Request Origin              11719 non-null  object \n",
      " 8   System of Origin ID         0 non-null      object \n",
      " 9   Contact Type                46 non-null     object \n",
      " 10  Preferred Language          0 non-null      float64\n",
      " 11  State Issue                 11719 non-null  bool   \n",
      " 12  Parent Request              1 non-null      float64\n",
      " 13  Closed When Created         11719 non-null  bool   \n",
      " 14  Address                     11345 non-null  object \n",
      " 15  City                        10732 non-null  object \n",
      " 16  Council District            10765 non-null  float64\n",
      " 17  ZIP                         10797 non-null  object \n",
      " 18  Latitude                    11441 non-null  float64\n",
      " 19  Longitude                   11441 non-null  float64\n",
      " 20  Mapped Location             11441 non-null  object \n",
      "dtypes: bool(2), float64(5), int64(1), object(13)\n",
      "memory usage: 1.8+ MB\n"
     ]
    }
   ],
   "source": [
    "hub_covid_violations_df.info()"
   ]
  },
  {
   "cell_type": "code",
   "execution_count": 7,
   "metadata": {},
   "outputs": [
    {
     "name": "stderr",
     "output_type": "stream",
     "text": [
      "<ipython-input-7-766ac9628eea>:2: SettingWithCopyWarning: \n",
      "A value is trying to be set on a copy of a slice from a DataFrame.\n",
      "Try using .loc[row_indexer,col_indexer] = value instead\n",
      "\n",
      "See the caveats in the documentation: https://pandas.pydata.org/pandas-docs/stable/user_guide/indexing.html#returning-a-view-versus-a-copy\n",
      "  hub_covid_violations_df[field] = pd.to_datetime(hub_covid_violations_df[field], errors='coerce')\n"
     ]
    }
   ],
   "source": [
    "for field in ['Date / Time Opened', 'Date / Time Closed']:\n",
    "    hub_covid_violations_df[field] = pd.to_datetime(hub_covid_violations_df[field], errors='coerce')"
   ]
  },
  {
   "cell_type": "code",
   "execution_count": 8,
   "metadata": {},
   "outputs": [],
   "source": [
    "with_parent = hub_covid_violations_df[hub_covid_violations_df['Parent Request'].notnull()].index[0]"
   ]
  },
  {
   "cell_type": "code",
   "execution_count": 9,
   "metadata": {},
   "outputs": [],
   "source": [
    "hub_covid_violations_df = hub_covid_violations_df.drop(with_parent)"
   ]
  },
  {
   "cell_type": "code",
   "execution_count": 10,
   "metadata": {},
   "outputs": [],
   "source": [
    "for field in ['System of Origin ID', 'Preferred Language', 'Request Type', 'Subrequest Type', 'Additional Subrequest Type', 'Request Origin', 'Parent Request']:\n",
    "    del hub_covid_violations_df[field]"
   ]
  },
  {
   "cell_type": "code",
   "execution_count": 11,
   "metadata": {
    "scrolled": true
   },
   "outputs": [
    {
     "data": {
      "text/html": [
       "<div>\n",
       "<style scoped>\n",
       "    .dataframe tbody tr th:only-of-type {\n",
       "        vertical-align: middle;\n",
       "    }\n",
       "\n",
       "    .dataframe tbody tr th {\n",
       "        vertical-align: top;\n",
       "    }\n",
       "\n",
       "    .dataframe thead th {\n",
       "        text-align: right;\n",
       "    }\n",
       "</style>\n",
       "<table border=\"1\" class=\"dataframe\">\n",
       "  <thead>\n",
       "    <tr style=\"text-align: right;\">\n",
       "      <th></th>\n",
       "      <th>Request #</th>\n",
       "      <th>Status</th>\n",
       "      <th>Date / Time Opened</th>\n",
       "      <th>Date / Time Closed</th>\n",
       "      <th>Contact Type</th>\n",
       "      <th>State Issue</th>\n",
       "      <th>Closed When Created</th>\n",
       "      <th>Address</th>\n",
       "      <th>City</th>\n",
       "      <th>Council District</th>\n",
       "      <th>ZIP</th>\n",
       "      <th>Latitude</th>\n",
       "      <th>Longitude</th>\n",
       "      <th>Mapped Location</th>\n",
       "    </tr>\n",
       "  </thead>\n",
       "  <tbody>\n",
       "    <tr>\n",
       "      <th>1547</th>\n",
       "      <td>444823</td>\n",
       "      <td>Closed</td>\n",
       "      <td>2020-08-14 02:38:00</td>\n",
       "      <td>2020-08-14 14:37:15</td>\n",
       "      <td>NaN</td>\n",
       "      <td>False</td>\n",
       "      <td>False</td>\n",
       "      <td>2045 Antioch Pike</td>\n",
       "      <td>ANTIOCH</td>\n",
       "      <td>28.0</td>\n",
       "      <td>37013</td>\n",
       "      <td>36.068546</td>\n",
       "      <td>-86.683898</td>\n",
       "      <td>(36.0685457, -86.6838975)</td>\n",
       "    </tr>\n",
       "    <tr>\n",
       "      <th>3380</th>\n",
       "      <td>479965</td>\n",
       "      <td>Closed</td>\n",
       "      <td>2020-10-13 11:48:40</td>\n",
       "      <td>2020-10-13 13:48:08</td>\n",
       "      <td>NaN</td>\n",
       "      <td>False</td>\n",
       "      <td>False</td>\n",
       "      <td>2800 Opryland Dr</td>\n",
       "      <td>NASHVILLE</td>\n",
       "      <td>15.0</td>\n",
       "      <td>37214</td>\n",
       "      <td>36.211269</td>\n",
       "      <td>-86.694302</td>\n",
       "      <td>(36.211269429469425, -86.6943024067459)</td>\n",
       "    </tr>\n",
       "    <tr>\n",
       "      <th>3661</th>\n",
       "      <td>392927</td>\n",
       "      <td>Closed</td>\n",
       "      <td>2020-06-16 00:35:20</td>\n",
       "      <td>2020-06-17 14:28:19</td>\n",
       "      <td>NaN</td>\n",
       "      <td>False</td>\n",
       "      <td>False</td>\n",
       "      <td>2607 12th Ave S</td>\n",
       "      <td>NASHVILLE</td>\n",
       "      <td>18.0</td>\n",
       "      <td>37204</td>\n",
       "      <td>36.123500</td>\n",
       "      <td>-86.790130</td>\n",
       "      <td>(36.1235, -86.79013)</td>\n",
       "    </tr>\n",
       "    <tr>\n",
       "      <th>3845</th>\n",
       "      <td>444512</td>\n",
       "      <td>Closed</td>\n",
       "      <td>2020-08-13 18:50:31</td>\n",
       "      <td>2020-08-14 14:22:11</td>\n",
       "      <td>NaN</td>\n",
       "      <td>False</td>\n",
       "      <td>False</td>\n",
       "      <td>3200 Clarksville Pike</td>\n",
       "      <td>NASHVILLE</td>\n",
       "      <td>2.0</td>\n",
       "      <td>37218</td>\n",
       "      <td>36.194163</td>\n",
       "      <td>-86.831394</td>\n",
       "      <td>(36.1941628, -86.8313936)</td>\n",
       "    </tr>\n",
       "    <tr>\n",
       "      <th>3877</th>\n",
       "      <td>444440</td>\n",
       "      <td>Closed</td>\n",
       "      <td>2020-08-13 18:03:09</td>\n",
       "      <td>2020-08-14 14:18:59</td>\n",
       "      <td>NaN</td>\n",
       "      <td>False</td>\n",
       "      <td>False</td>\n",
       "      <td>20 Grundy St</td>\n",
       "      <td>NASHVILLE</td>\n",
       "      <td>19.0</td>\n",
       "      <td>37203</td>\n",
       "      <td>36.158440</td>\n",
       "      <td>-86.788038</td>\n",
       "      <td>(36.15843971160494, -86.7880380629013)</td>\n",
       "    </tr>\n",
       "  </tbody>\n",
       "</table>\n",
       "</div>"
      ],
      "text/plain": [
       "      Request #  Status  Date / Time Opened  Date / Time Closed Contact Type  \\\n",
       "1547     444823  Closed 2020-08-14 02:38:00 2020-08-14 14:37:15          NaN   \n",
       "3380     479965  Closed 2020-10-13 11:48:40 2020-10-13 13:48:08          NaN   \n",
       "3661     392927  Closed 2020-06-16 00:35:20 2020-06-17 14:28:19          NaN   \n",
       "3845     444512  Closed 2020-08-13 18:50:31 2020-08-14 14:22:11          NaN   \n",
       "3877     444440  Closed 2020-08-13 18:03:09 2020-08-14 14:18:59          NaN   \n",
       "\n",
       "      State Issue  Closed When Created                Address       City  \\\n",
       "1547        False                False      2045 Antioch Pike    ANTIOCH   \n",
       "3380        False                False       2800 Opryland Dr  NASHVILLE   \n",
       "3661        False                False        2607 12th Ave S  NASHVILLE   \n",
       "3845        False                False  3200 Clarksville Pike  NASHVILLE   \n",
       "3877        False                False           20 Grundy St  NASHVILLE   \n",
       "\n",
       "      Council District    ZIP   Latitude  Longitude  \\\n",
       "1547              28.0  37013  36.068546 -86.683898   \n",
       "3380              15.0  37214  36.211269 -86.694302   \n",
       "3661              18.0  37204  36.123500 -86.790130   \n",
       "3845               2.0  37218  36.194163 -86.831394   \n",
       "3877              19.0  37203  36.158440 -86.788038   \n",
       "\n",
       "                              Mapped Location  \n",
       "1547                (36.0685457, -86.6838975)  \n",
       "3380  (36.211269429469425, -86.6943024067459)  \n",
       "3661                     (36.1235, -86.79013)  \n",
       "3845                (36.1941628, -86.8313936)  \n",
       "3877   (36.15843971160494, -86.7880380629013)  "
      ]
     },
     "execution_count": 11,
     "metadata": {},
     "output_type": "execute_result"
    }
   ],
   "source": [
    "hub_covid_violations_df.head()"
   ]
  },
  {
   "cell_type": "code",
   "execution_count": 12,
   "metadata": {},
   "outputs": [],
   "source": [
    "hub_covid_violations_df.to_csv('../data/hub_covid_violations.csv', index=False)"
   ]
  },
  {
   "cell_type": "code",
   "execution_count": null,
   "metadata": {},
   "outputs": [],
   "source": []
  }
 ],
 "metadata": {
  "kernelspec": {
   "display_name": "Python 3",
   "language": "python",
   "name": "python3"
  },
  "language_info": {
   "codemirror_mode": {
    "name": "ipython",
    "version": 3
   },
   "file_extension": ".py",
   "mimetype": "text/x-python",
   "name": "python",
   "nbconvert_exporter": "python",
   "pygments_lexer": "ipython3",
   "version": "3.8.3"
  }
 },
 "nbformat": 4,
 "nbformat_minor": 4
}
