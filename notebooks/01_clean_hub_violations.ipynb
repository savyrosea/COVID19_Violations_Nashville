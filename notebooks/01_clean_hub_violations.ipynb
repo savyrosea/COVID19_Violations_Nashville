{
 "cells": [
  {
   "cell_type": "code",
   "execution_count": 1,
   "metadata": {},
   "outputs": [],
   "source": [
    "import pandas as pd"
   ]
  },
  {
   "cell_type": "code",
   "execution_count": 2,
   "metadata": {},
   "outputs": [
    {
     "name": "stderr",
     "output_type": "stream",
     "text": [
      "C:\\Users\\savro\\anaconda3\\lib\\site-packages\\IPython\\core\\interactiveshell.py:3063: DtypeWarning: Columns (17) have mixed types.Specify dtype option on import or set low_memory=False.\n",
      "  interactivity=interactivity, compiler=compiler, result=result)\n"
     ]
    }
   ],
   "source": [
    "hub_df = pd.read_csv('../data/hubNashville__311__Service_Requests.csv')"
   ]
  },
  {
   "cell_type": "code",
   "execution_count": 3,
   "metadata": {},
   "outputs": [],
   "source": [
    "hub_covid_df = hub_df[hub_df['Request Type'] == 'COVID-19']"
   ]
  },
  {
   "cell_type": "code",
   "execution_count": 4,
   "metadata": {},
   "outputs": [
    {
     "name": "stdout",
     "output_type": "stream",
     "text": [
      "<class 'pandas.core.frame.DataFrame'>\n",
      "Int64Index: 15923 entries, 1547 to 479278\n",
      "Data columns (total 21 columns):\n",
      " #   Column                      Non-Null Count  Dtype  \n",
      "---  ------                      --------------  -----  \n",
      " 0   Request #                   15923 non-null  int64  \n",
      " 1   Status                      15923 non-null  object \n",
      " 2   Request Type                15923 non-null  object \n",
      " 3   Subrequest Type             15922 non-null  object \n",
      " 4   Additional Subrequest Type  15904 non-null  object \n",
      " 5   Date / Time Opened          15923 non-null  object \n",
      " 6   Date / Time Closed          15870 non-null  object \n",
      " 7   Request Origin              15923 non-null  object \n",
      " 8   System of Origin ID         0 non-null      object \n",
      " 9   Contact Type                65 non-null     object \n",
      " 10  Preferred Language          0 non-null      float64\n",
      " 11  State Issue                 15923 non-null  bool   \n",
      " 12  Parent Request              1 non-null      float64\n",
      " 13  Closed When Created         15923 non-null  bool   \n",
      " 14  Address                     11663 non-null  object \n",
      " 15  City                        11046 non-null  object \n",
      " 16  Council District            11078 non-null  float64\n",
      " 17  ZIP                         11111 non-null  object \n",
      " 18  Latitude                    11758 non-null  float64\n",
      " 19  Longitude                   11758 non-null  float64\n",
      " 20  Mapped Location             11758 non-null  object \n",
      "dtypes: bool(2), float64(5), int64(1), object(13)\n",
      "memory usage: 2.5+ MB\n"
     ]
    }
   ],
   "source": [
    "hub_covid_df.info()"
   ]
  },
  {
   "cell_type": "code",
   "execution_count": 5,
   "metadata": {},
   "outputs": [],
   "source": [
    "hub_covid_violations_df = hub_covid_df[hub_covid_df['Subrequest Type'] == 'COVID-19 Violations']"
   ]
  },
  {
   "cell_type": "code",
   "execution_count": 6,
   "metadata": {},
   "outputs": [
    {
     "name": "stdout",
     "output_type": "stream",
     "text": [
      "<class 'pandas.core.frame.DataFrame'>\n",
      "Int64Index: 11632 entries, 1547 to 479249\n",
      "Data columns (total 21 columns):\n",
      " #   Column                      Non-Null Count  Dtype  \n",
      "---  ------                      --------------  -----  \n",
      " 0   Request #                   11632 non-null  int64  \n",
      " 1   Status                      11632 non-null  object \n",
      " 2   Request Type                11632 non-null  object \n",
      " 3   Subrequest Type             11632 non-null  object \n",
      " 4   Additional Subrequest Type  11623 non-null  object \n",
      " 5   Date / Time Opened          11632 non-null  object \n",
      " 6   Date / Time Closed          11611 non-null  object \n",
      " 7   Request Origin              11632 non-null  object \n",
      " 8   System of Origin ID         0 non-null      object \n",
      " 9   Contact Type                46 non-null     object \n",
      " 10  Preferred Language          0 non-null      float64\n",
      " 11  State Issue                 11632 non-null  bool   \n",
      " 12  Parent Request              1 non-null      float64\n",
      " 13  Closed When Created         11632 non-null  bool   \n",
      " 14  Address                     11258 non-null  object \n",
      " 15  City                        10653 non-null  object \n",
      " 16  Council District            10686 non-null  float64\n",
      " 17  ZIP                         10718 non-null  object \n",
      " 18  Latitude                    11354 non-null  float64\n",
      " 19  Longitude                   11354 non-null  float64\n",
      " 20  Mapped Location             11354 non-null  object \n",
      "dtypes: bool(2), float64(5), int64(1), object(13)\n",
      "memory usage: 1.8+ MB\n"
     ]
    }
   ],
   "source": [
    "hub_covid_violations_df.info()"
   ]
  },
  {
   "cell_type": "code",
   "execution_count": 7,
   "metadata": {},
   "outputs": [
    {
     "name": "stderr",
     "output_type": "stream",
     "text": [
      "C:\\Users\\savro\\anaconda3\\lib\\site-packages\\ipykernel_launcher.py:2: SettingWithCopyWarning: \n",
      "A value is trying to be set on a copy of a slice from a DataFrame.\n",
      "Try using .loc[row_indexer,col_indexer] = value instead\n",
      "\n",
      "See the caveats in the documentation: https://pandas.pydata.org/pandas-docs/stable/user_guide/indexing.html#returning-a-view-versus-a-copy\n",
      "  \n"
     ]
    }
   ],
   "source": [
    "for field in ['Date / Time Opened', 'Date / Time Closed']:\n",
    "    hub_covid_violations_df[field] = pd.to_datetime(hub_covid_violations_df[field], errors='coerce')"
   ]
  },
  {
   "cell_type": "code",
   "execution_count": 8,
   "metadata": {},
   "outputs": [],
   "source": [
    "for field in ['System of Origin ID', 'Preferred Language', 'Request Type', 'Subrequest Type', 'Additional Subrequest Type', 'Request Origin', 'Parent Request']:\n",
    "    del hub_covid_violations_df[field]"
   ]
  },
  {
   "cell_type": "code",
   "execution_count": 9,
   "metadata": {
    "scrolled": true
   },
   "outputs": [
    {
     "data": {
      "text/html": [
       "<div>\n",
       "<style scoped>\n",
       "    .dataframe tbody tr th:only-of-type {\n",
       "        vertical-align: middle;\n",
       "    }\n",
       "\n",
       "    .dataframe tbody tr th {\n",
       "        vertical-align: top;\n",
       "    }\n",
       "\n",
       "    .dataframe thead th {\n",
       "        text-align: right;\n",
       "    }\n",
       "</style>\n",
       "<table border=\"1\" class=\"dataframe\">\n",
       "  <thead>\n",
       "    <tr style=\"text-align: right;\">\n",
       "      <th></th>\n",
       "      <th>Request #</th>\n",
       "      <th>Status</th>\n",
       "      <th>Date / Time Opened</th>\n",
       "      <th>Date / Time Closed</th>\n",
       "      <th>Contact Type</th>\n",
       "      <th>State Issue</th>\n",
       "      <th>Closed When Created</th>\n",
       "      <th>Address</th>\n",
       "      <th>City</th>\n",
       "      <th>Council District</th>\n",
       "      <th>ZIP</th>\n",
       "      <th>Latitude</th>\n",
       "      <th>Longitude</th>\n",
       "      <th>Mapped Location</th>\n",
       "    </tr>\n",
       "  </thead>\n",
       "  <tbody>\n",
       "    <tr>\n",
       "      <th>1547</th>\n",
       "      <td>444823</td>\n",
       "      <td>Closed</td>\n",
       "      <td>2020-08-14 02:38:00</td>\n",
       "      <td>2020-08-14 14:37:15</td>\n",
       "      <td>NaN</td>\n",
       "      <td>False</td>\n",
       "      <td>False</td>\n",
       "      <td>2045 Antioch Pike</td>\n",
       "      <td>ANTIOCH</td>\n",
       "      <td>28.0</td>\n",
       "      <td>37013</td>\n",
       "      <td>36.068546</td>\n",
       "      <td>-86.683898</td>\n",
       "      <td>(36.0685457, -86.6838975)</td>\n",
       "    </tr>\n",
       "    <tr>\n",
       "      <th>3379</th>\n",
       "      <td>479965</td>\n",
       "      <td>Closed</td>\n",
       "      <td>2020-10-13 11:48:40</td>\n",
       "      <td>2020-10-13 13:48:08</td>\n",
       "      <td>NaN</td>\n",
       "      <td>False</td>\n",
       "      <td>False</td>\n",
       "      <td>2800 Opryland Dr</td>\n",
       "      <td>NASHVILLE</td>\n",
       "      <td>15.0</td>\n",
       "      <td>37214</td>\n",
       "      <td>36.211269</td>\n",
       "      <td>-86.694302</td>\n",
       "      <td>(36.211269429469425, -86.6943024067459)</td>\n",
       "    </tr>\n",
       "    <tr>\n",
       "      <th>3660</th>\n",
       "      <td>392927</td>\n",
       "      <td>Closed</td>\n",
       "      <td>2020-06-16 00:35:20</td>\n",
       "      <td>2020-06-17 14:28:19</td>\n",
       "      <td>NaN</td>\n",
       "      <td>False</td>\n",
       "      <td>False</td>\n",
       "      <td>2607 12th Ave S</td>\n",
       "      <td>NASHVILLE</td>\n",
       "      <td>18.0</td>\n",
       "      <td>37204</td>\n",
       "      <td>36.123500</td>\n",
       "      <td>-86.790130</td>\n",
       "      <td>(36.1235, -86.79013)</td>\n",
       "    </tr>\n",
       "    <tr>\n",
       "      <th>3844</th>\n",
       "      <td>444512</td>\n",
       "      <td>Closed</td>\n",
       "      <td>2020-08-13 18:50:31</td>\n",
       "      <td>2020-08-14 14:22:11</td>\n",
       "      <td>NaN</td>\n",
       "      <td>False</td>\n",
       "      <td>False</td>\n",
       "      <td>3200 Clarksville Pike</td>\n",
       "      <td>NASHVILLE</td>\n",
       "      <td>2.0</td>\n",
       "      <td>37218</td>\n",
       "      <td>36.194163</td>\n",
       "      <td>-86.831394</td>\n",
       "      <td>(36.1941628, -86.8313936)</td>\n",
       "    </tr>\n",
       "    <tr>\n",
       "      <th>3876</th>\n",
       "      <td>444440</td>\n",
       "      <td>Closed</td>\n",
       "      <td>2020-08-13 18:03:09</td>\n",
       "      <td>2020-08-14 14:18:59</td>\n",
       "      <td>NaN</td>\n",
       "      <td>False</td>\n",
       "      <td>False</td>\n",
       "      <td>20 Grundy St</td>\n",
       "      <td>NASHVILLE</td>\n",
       "      <td>19.0</td>\n",
       "      <td>37203</td>\n",
       "      <td>36.158440</td>\n",
       "      <td>-86.788038</td>\n",
       "      <td>(36.15843971160494, -86.7880380629013)</td>\n",
       "    </tr>\n",
       "  </tbody>\n",
       "</table>\n",
       "</div>"
      ],
      "text/plain": [
       "      Request #  Status  Date / Time Opened  Date / Time Closed Contact Type  \\\n",
       "1547     444823  Closed 2020-08-14 02:38:00 2020-08-14 14:37:15          NaN   \n",
       "3379     479965  Closed 2020-10-13 11:48:40 2020-10-13 13:48:08          NaN   \n",
       "3660     392927  Closed 2020-06-16 00:35:20 2020-06-17 14:28:19          NaN   \n",
       "3844     444512  Closed 2020-08-13 18:50:31 2020-08-14 14:22:11          NaN   \n",
       "3876     444440  Closed 2020-08-13 18:03:09 2020-08-14 14:18:59          NaN   \n",
       "\n",
       "      State Issue  Closed When Created                Address       City  \\\n",
       "1547        False                False      2045 Antioch Pike    ANTIOCH   \n",
       "3379        False                False       2800 Opryland Dr  NASHVILLE   \n",
       "3660        False                False        2607 12th Ave S  NASHVILLE   \n",
       "3844        False                False  3200 Clarksville Pike  NASHVILLE   \n",
       "3876        False                False           20 Grundy St  NASHVILLE   \n",
       "\n",
       "      Council District    ZIP   Latitude  Longitude  \\\n",
       "1547              28.0  37013  36.068546 -86.683898   \n",
       "3379              15.0  37214  36.211269 -86.694302   \n",
       "3660              18.0  37204  36.123500 -86.790130   \n",
       "3844               2.0  37218  36.194163 -86.831394   \n",
       "3876              19.0  37203  36.158440 -86.788038   \n",
       "\n",
       "                              Mapped Location  \n",
       "1547                (36.0685457, -86.6838975)  \n",
       "3379  (36.211269429469425, -86.6943024067459)  \n",
       "3660                     (36.1235, -86.79013)  \n",
       "3844                (36.1941628, -86.8313936)  \n",
       "3876   (36.15843971160494, -86.7880380629013)  "
      ]
     },
     "execution_count": 9,
     "metadata": {},
     "output_type": "execute_result"
    }
   ],
   "source": [
    "hub_covid_violations_df.head()"
   ]
  },
  {
   "cell_type": "code",
   "execution_count": 10,
   "metadata": {},
   "outputs": [
    {
     "ename": "KeyError",
     "evalue": "'[23443] not found in axis'",
     "output_type": "error",
     "traceback": [
      "\u001b[1;31m---------------------------------------------------------------------------\u001b[0m",
      "\u001b[1;31mKeyError\u001b[0m                                  Traceback (most recent call last)",
      "\u001b[1;32m<ipython-input-10-e3bfea3e713b>\u001b[0m in \u001b[0;36m<module>\u001b[1;34m\u001b[0m\n\u001b[1;32m----> 1\u001b[1;33m \u001b[0mhub_covid_violations_df\u001b[0m \u001b[1;33m=\u001b[0m \u001b[0mhub_covid_violations_df\u001b[0m\u001b[1;33m.\u001b[0m\u001b[0mdrop\u001b[0m\u001b[1;33m(\u001b[0m\u001b[1;36m23443\u001b[0m\u001b[1;33m)\u001b[0m\u001b[1;33m\u001b[0m\u001b[1;33m\u001b[0m\u001b[0m\n\u001b[0m",
      "\u001b[1;32m~\\anaconda3\\lib\\site-packages\\pandas\\core\\frame.py\u001b[0m in \u001b[0;36mdrop\u001b[1;34m(self, labels, axis, index, columns, level, inplace, errors)\u001b[0m\n\u001b[0;32m   3995\u001b[0m             \u001b[0mlevel\u001b[0m\u001b[1;33m=\u001b[0m\u001b[0mlevel\u001b[0m\u001b[1;33m,\u001b[0m\u001b[1;33m\u001b[0m\u001b[1;33m\u001b[0m\u001b[0m\n\u001b[0;32m   3996\u001b[0m             \u001b[0minplace\u001b[0m\u001b[1;33m=\u001b[0m\u001b[0minplace\u001b[0m\u001b[1;33m,\u001b[0m\u001b[1;33m\u001b[0m\u001b[1;33m\u001b[0m\u001b[0m\n\u001b[1;32m-> 3997\u001b[1;33m             \u001b[0merrors\u001b[0m\u001b[1;33m=\u001b[0m\u001b[0merrors\u001b[0m\u001b[1;33m,\u001b[0m\u001b[1;33m\u001b[0m\u001b[1;33m\u001b[0m\u001b[0m\n\u001b[0m\u001b[0;32m   3998\u001b[0m         )\n\u001b[0;32m   3999\u001b[0m \u001b[1;33m\u001b[0m\u001b[0m\n",
      "\u001b[1;32m~\\anaconda3\\lib\\site-packages\\pandas\\core\\generic.py\u001b[0m in \u001b[0;36mdrop\u001b[1;34m(self, labels, axis, index, columns, level, inplace, errors)\u001b[0m\n\u001b[0;32m   3934\u001b[0m         \u001b[1;32mfor\u001b[0m \u001b[0maxis\u001b[0m\u001b[1;33m,\u001b[0m \u001b[0mlabels\u001b[0m \u001b[1;32min\u001b[0m \u001b[0maxes\u001b[0m\u001b[1;33m.\u001b[0m\u001b[0mitems\u001b[0m\u001b[1;33m(\u001b[0m\u001b[1;33m)\u001b[0m\u001b[1;33m:\u001b[0m\u001b[1;33m\u001b[0m\u001b[1;33m\u001b[0m\u001b[0m\n\u001b[0;32m   3935\u001b[0m             \u001b[1;32mif\u001b[0m \u001b[0mlabels\u001b[0m \u001b[1;32mis\u001b[0m \u001b[1;32mnot\u001b[0m \u001b[1;32mNone\u001b[0m\u001b[1;33m:\u001b[0m\u001b[1;33m\u001b[0m\u001b[1;33m\u001b[0m\u001b[0m\n\u001b[1;32m-> 3936\u001b[1;33m                 \u001b[0mobj\u001b[0m \u001b[1;33m=\u001b[0m \u001b[0mobj\u001b[0m\u001b[1;33m.\u001b[0m\u001b[0m_drop_axis\u001b[0m\u001b[1;33m(\u001b[0m\u001b[0mlabels\u001b[0m\u001b[1;33m,\u001b[0m \u001b[0maxis\u001b[0m\u001b[1;33m,\u001b[0m \u001b[0mlevel\u001b[0m\u001b[1;33m=\u001b[0m\u001b[0mlevel\u001b[0m\u001b[1;33m,\u001b[0m \u001b[0merrors\u001b[0m\u001b[1;33m=\u001b[0m\u001b[0merrors\u001b[0m\u001b[1;33m)\u001b[0m\u001b[1;33m\u001b[0m\u001b[1;33m\u001b[0m\u001b[0m\n\u001b[0m\u001b[0;32m   3937\u001b[0m \u001b[1;33m\u001b[0m\u001b[0m\n\u001b[0;32m   3938\u001b[0m         \u001b[1;32mif\u001b[0m \u001b[0minplace\u001b[0m\u001b[1;33m:\u001b[0m\u001b[1;33m\u001b[0m\u001b[1;33m\u001b[0m\u001b[0m\n",
      "\u001b[1;32m~\\anaconda3\\lib\\site-packages\\pandas\\core\\generic.py\u001b[0m in \u001b[0;36m_drop_axis\u001b[1;34m(self, labels, axis, level, errors)\u001b[0m\n\u001b[0;32m   3968\u001b[0m                 \u001b[0mnew_axis\u001b[0m \u001b[1;33m=\u001b[0m \u001b[0maxis\u001b[0m\u001b[1;33m.\u001b[0m\u001b[0mdrop\u001b[0m\u001b[1;33m(\u001b[0m\u001b[0mlabels\u001b[0m\u001b[1;33m,\u001b[0m \u001b[0mlevel\u001b[0m\u001b[1;33m=\u001b[0m\u001b[0mlevel\u001b[0m\u001b[1;33m,\u001b[0m \u001b[0merrors\u001b[0m\u001b[1;33m=\u001b[0m\u001b[0merrors\u001b[0m\u001b[1;33m)\u001b[0m\u001b[1;33m\u001b[0m\u001b[1;33m\u001b[0m\u001b[0m\n\u001b[0;32m   3969\u001b[0m             \u001b[1;32melse\u001b[0m\u001b[1;33m:\u001b[0m\u001b[1;33m\u001b[0m\u001b[1;33m\u001b[0m\u001b[0m\n\u001b[1;32m-> 3970\u001b[1;33m                 \u001b[0mnew_axis\u001b[0m \u001b[1;33m=\u001b[0m \u001b[0maxis\u001b[0m\u001b[1;33m.\u001b[0m\u001b[0mdrop\u001b[0m\u001b[1;33m(\u001b[0m\u001b[0mlabels\u001b[0m\u001b[1;33m,\u001b[0m \u001b[0merrors\u001b[0m\u001b[1;33m=\u001b[0m\u001b[0merrors\u001b[0m\u001b[1;33m)\u001b[0m\u001b[1;33m\u001b[0m\u001b[1;33m\u001b[0m\u001b[0m\n\u001b[0m\u001b[0;32m   3971\u001b[0m             \u001b[0mresult\u001b[0m \u001b[1;33m=\u001b[0m \u001b[0mself\u001b[0m\u001b[1;33m.\u001b[0m\u001b[0mreindex\u001b[0m\u001b[1;33m(\u001b[0m\u001b[1;33m**\u001b[0m\u001b[1;33m{\u001b[0m\u001b[0maxis_name\u001b[0m\u001b[1;33m:\u001b[0m \u001b[0mnew_axis\u001b[0m\u001b[1;33m}\u001b[0m\u001b[1;33m)\u001b[0m\u001b[1;33m\u001b[0m\u001b[1;33m\u001b[0m\u001b[0m\n\u001b[0;32m   3972\u001b[0m \u001b[1;33m\u001b[0m\u001b[0m\n",
      "\u001b[1;32m~\\anaconda3\\lib\\site-packages\\pandas\\core\\indexes\\base.py\u001b[0m in \u001b[0;36mdrop\u001b[1;34m(self, labels, errors)\u001b[0m\n\u001b[0;32m   5016\u001b[0m         \u001b[1;32mif\u001b[0m \u001b[0mmask\u001b[0m\u001b[1;33m.\u001b[0m\u001b[0many\u001b[0m\u001b[1;33m(\u001b[0m\u001b[1;33m)\u001b[0m\u001b[1;33m:\u001b[0m\u001b[1;33m\u001b[0m\u001b[1;33m\u001b[0m\u001b[0m\n\u001b[0;32m   5017\u001b[0m             \u001b[1;32mif\u001b[0m \u001b[0merrors\u001b[0m \u001b[1;33m!=\u001b[0m \u001b[1;34m\"ignore\"\u001b[0m\u001b[1;33m:\u001b[0m\u001b[1;33m\u001b[0m\u001b[1;33m\u001b[0m\u001b[0m\n\u001b[1;32m-> 5018\u001b[1;33m                 \u001b[1;32mraise\u001b[0m \u001b[0mKeyError\u001b[0m\u001b[1;33m(\u001b[0m\u001b[1;34mf\"{labels[mask]} not found in axis\"\u001b[0m\u001b[1;33m)\u001b[0m\u001b[1;33m\u001b[0m\u001b[1;33m\u001b[0m\u001b[0m\n\u001b[0m\u001b[0;32m   5019\u001b[0m             \u001b[0mindexer\u001b[0m \u001b[1;33m=\u001b[0m \u001b[0mindexer\u001b[0m\u001b[1;33m[\u001b[0m\u001b[1;33m~\u001b[0m\u001b[0mmask\u001b[0m\u001b[1;33m]\u001b[0m\u001b[1;33m\u001b[0m\u001b[1;33m\u001b[0m\u001b[0m\n\u001b[0;32m   5020\u001b[0m         \u001b[1;32mreturn\u001b[0m \u001b[0mself\u001b[0m\u001b[1;33m.\u001b[0m\u001b[0mdelete\u001b[0m\u001b[1;33m(\u001b[0m\u001b[0mindexer\u001b[0m\u001b[1;33m)\u001b[0m\u001b[1;33m\u001b[0m\u001b[1;33m\u001b[0m\u001b[0m\n",
      "\u001b[1;31mKeyError\u001b[0m: '[23443] not found in axis'"
     ]
    }
   ],
   "source": [
    "hub_covid_violations_df = hub_covid_violations_df.drop(23443)"
   ]
  },
  {
   "cell_type": "code",
   "execution_count": 11,
   "metadata": {},
   "outputs": [],
   "source": [
    "hub_covid_violations_df.to_csv('../data/hub_covid_violations.csv', index=False)"
   ]
  },
  {
   "cell_type": "code",
   "execution_count": null,
   "metadata": {},
   "outputs": [],
   "source": []
  }
 ],
 "metadata": {
  "kernelspec": {
   "display_name": "Python 3",
   "language": "python",
   "name": "python3"
  },
  "language_info": {
   "codemirror_mode": {
    "name": "ipython",
    "version": 3
   },
   "file_extension": ".py",
   "mimetype": "text/x-python",
   "name": "python",
   "nbconvert_exporter": "python",
   "pygments_lexer": "ipython3",
   "version": "3.7.6"
  }
 },
 "nbformat": 4,
 "nbformat_minor": 4
}
